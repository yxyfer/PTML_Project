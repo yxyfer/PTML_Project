{
 "cells": [
  {
   "cell_type": "markdown",
   "id": "e25d7aaa",
   "metadata": {
    "toc": true
   },
   "source": [
    "<h1>Table of Contents<span class=\"tocSkip\"></span></h1>\n",
    "<div class=\"toc\"><ul class=\"toc-item\"></ul></div>"
   ]
  },
  {
   "cell_type": "code",
   "execution_count": 1,
   "id": "e4b3bd49",
   "metadata": {},
   "outputs": [],
   "source": [
    "import pandas as pd\n",
    "import numpy as np\n",
    "from matplotlib import pyplot as plt\n",
    "\n",
    "%config InlineBackend.figure_format = 'retina'"
   ]
  },
  {
   "cell_type": "code",
   "execution_count": 2,
   "id": "b4ebd12f",
   "metadata": {},
   "outputs": [],
   "source": [
    "df = pd.read_csv(\"../data/supervised/election_dataset.csv\")"
   ]
  },
  {
   "cell_type": "code",
   "execution_count": 3,
   "id": "b2353c84",
   "metadata": {},
   "outputs": [
    {
     "data": {
      "text/html": [
       "<div>\n",
       "<style scoped>\n",
       "    .dataframe tbody tr th:only-of-type {\n",
       "        vertical-align: middle;\n",
       "    }\n",
       "\n",
       "    .dataframe tbody tr th {\n",
       "        vertical-align: top;\n",
       "    }\n",
       "\n",
       "    .dataframe thead th {\n",
       "        text-align: right;\n",
       "    }\n",
       "</style>\n",
       "<table border=\"1\" class=\"dataframe\">\n",
       "  <thead>\n",
       "    <tr style=\"text-align: right;\">\n",
       "      <th></th>\n",
       "      <th>county_name</th>\n",
       "      <th>median_age</th>\n",
       "      <th>mean_savings</th>\n",
       "      <th>per_capita_income</th>\n",
       "      <th>percent_in_poverty</th>\n",
       "      <th>percent_veterans</th>\n",
       "      <th>percent_female</th>\n",
       "      <th>population_density</th>\n",
       "      <th>percent_in_nursing_homes</th>\n",
       "      <th>crime_index_PC</th>\n",
       "      <th>state</th>\n",
       "      <th>clinton_win</th>\n",
       "    </tr>\n",
       "  </thead>\n",
       "  <tbody>\n",
       "    <tr>\n",
       "      <th>0</th>\n",
       "      <td>Autauga</td>\n",
       "      <td>31.7</td>\n",
       "      <td>57623</td>\n",
       "      <td>15768</td>\n",
       "      <td>15.2</td>\n",
       "      <td>10.74</td>\n",
       "      <td>51.41</td>\n",
       "      <td>60.4</td>\n",
       "      <td>2.36</td>\n",
       "      <td>457</td>\n",
       "      <td>AL</td>\n",
       "      <td>False</td>\n",
       "    </tr>\n",
       "    <tr>\n",
       "      <th>1</th>\n",
       "      <td>Baldwin</td>\n",
       "      <td>35.5</td>\n",
       "      <td>84935</td>\n",
       "      <td>16954</td>\n",
       "      <td>13.6</td>\n",
       "      <td>9.73</td>\n",
       "      <td>51.34</td>\n",
       "      <td>66.5</td>\n",
       "      <td>5.40</td>\n",
       "      <td>282</td>\n",
       "      <td>AL</td>\n",
       "      <td>False</td>\n",
       "    </tr>\n",
       "    <tr>\n",
       "      <th>2</th>\n",
       "      <td>Barbour</td>\n",
       "      <td>32.8</td>\n",
       "      <td>83656</td>\n",
       "      <td>15532</td>\n",
       "      <td>25.0</td>\n",
       "      <td>8.82</td>\n",
       "      <td>53.03</td>\n",
       "      <td>28.8</td>\n",
       "      <td>7.02</td>\n",
       "      <td>47</td>\n",
       "      <td>AL</td>\n",
       "      <td>True</td>\n",
       "    </tr>\n",
       "    <tr>\n",
       "      <th>3</th>\n",
       "      <td>Blount</td>\n",
       "      <td>34.5</td>\n",
       "      <td>61249</td>\n",
       "      <td>14820</td>\n",
       "      <td>15.0</td>\n",
       "      <td>9.67</td>\n",
       "      <td>51.15</td>\n",
       "      <td>62.4</td>\n",
       "      <td>2.36</td>\n",
       "      <td>185</td>\n",
       "      <td>AL</td>\n",
       "      <td>False</td>\n",
       "    </tr>\n",
       "    <tr>\n",
       "      <th>4</th>\n",
       "      <td>Bullock</td>\n",
       "      <td>31.7</td>\n",
       "      <td>75725</td>\n",
       "      <td>11120</td>\n",
       "      <td>33.0</td>\n",
       "      <td>7.08</td>\n",
       "      <td>50.76</td>\n",
       "      <td>17.6</td>\n",
       "      <td>2.91</td>\n",
       "      <td>141</td>\n",
       "      <td>AL</td>\n",
       "      <td>True</td>\n",
       "    </tr>\n",
       "    <tr>\n",
       "      <th>...</th>\n",
       "      <td>...</td>\n",
       "      <td>...</td>\n",
       "      <td>...</td>\n",
       "      <td>...</td>\n",
       "      <td>...</td>\n",
       "      <td>...</td>\n",
       "      <td>...</td>\n",
       "      <td>...</td>\n",
       "      <td>...</td>\n",
       "      <td>...</td>\n",
       "      <td>...</td>\n",
       "      <td>...</td>\n",
       "    </tr>\n",
       "    <tr>\n",
       "      <th>2408</th>\n",
       "      <td>Sheridan</td>\n",
       "      <td>36.3</td>\n",
       "      <td>87232</td>\n",
       "      <td>22250</td>\n",
       "      <td>11.6</td>\n",
       "      <td>16.59</td>\n",
       "      <td>50.73</td>\n",
       "      <td>9.5</td>\n",
       "      <td>4.67</td>\n",
       "      <td>275</td>\n",
       "      <td>WY</td>\n",
       "      <td>False</td>\n",
       "    </tr>\n",
       "    <tr>\n",
       "      <th>2409</th>\n",
       "      <td>Sublette</td>\n",
       "      <td>35.4</td>\n",
       "      <td>83020</td>\n",
       "      <td>18748</td>\n",
       "      <td>7.9</td>\n",
       "      <td>12.18</td>\n",
       "      <td>47.98</td>\n",
       "      <td>1.0</td>\n",
       "      <td>8.60</td>\n",
       "      <td>432</td>\n",
       "      <td>WY</td>\n",
       "      <td>False</td>\n",
       "    </tr>\n",
       "    <tr>\n",
       "      <th>2410</th>\n",
       "      <td>Sweetwater</td>\n",
       "      <td>30.4</td>\n",
       "      <td>104346</td>\n",
       "      <td>19086</td>\n",
       "      <td>7.7</td>\n",
       "      <td>14.64</td>\n",
       "      <td>49.42</td>\n",
       "      <td>3.9</td>\n",
       "      <td>3.00</td>\n",
       "      <td>625</td>\n",
       "      <td>WY</td>\n",
       "      <td>True</td>\n",
       "    </tr>\n",
       "    <tr>\n",
       "      <th>2411</th>\n",
       "      <td>Washakie</td>\n",
       "      <td>34.6</td>\n",
       "      <td>114176</td>\n",
       "      <td>17608</td>\n",
       "      <td>11.7</td>\n",
       "      <td>14.47</td>\n",
       "      <td>49.65</td>\n",
       "      <td>3.8</td>\n",
       "      <td>8.47</td>\n",
       "      <td>313</td>\n",
       "      <td>WY</td>\n",
       "      <td>False</td>\n",
       "    </tr>\n",
       "    <tr>\n",
       "      <th>2412</th>\n",
       "      <td>Weston</td>\n",
       "      <td>34.4</td>\n",
       "      <td>132959</td>\n",
       "      <td>19265</td>\n",
       "      <td>9.4</td>\n",
       "      <td>13.94</td>\n",
       "      <td>49.90</td>\n",
       "      <td>2.8</td>\n",
       "      <td>6.21</td>\n",
       "      <td>167</td>\n",
       "      <td>WY</td>\n",
       "      <td>False</td>\n",
       "    </tr>\n",
       "  </tbody>\n",
       "</table>\n",
       "<p>2413 rows × 12 columns</p>\n",
       "</div>"
      ],
      "text/plain": [
       "     county_name  median_age  mean_savings  per_capita_income  \\\n",
       "0        Autauga        31.7         57623              15768   \n",
       "1        Baldwin        35.5         84935              16954   \n",
       "2        Barbour        32.8         83656              15532   \n",
       "3         Blount        34.5         61249              14820   \n",
       "4        Bullock        31.7         75725              11120   \n",
       "...          ...         ...           ...                ...   \n",
       "2408    Sheridan        36.3         87232              22250   \n",
       "2409    Sublette        35.4         83020              18748   \n",
       "2410  Sweetwater        30.4        104346              19086   \n",
       "2411    Washakie        34.6        114176              17608   \n",
       "2412      Weston        34.4        132959              19265   \n",
       "\n",
       "      percent_in_poverty  percent_veterans  percent_female  \\\n",
       "0                   15.2             10.74           51.41   \n",
       "1                   13.6              9.73           51.34   \n",
       "2                   25.0              8.82           53.03   \n",
       "3                   15.0              9.67           51.15   \n",
       "4                   33.0              7.08           50.76   \n",
       "...                  ...               ...             ...   \n",
       "2408                11.6             16.59           50.73   \n",
       "2409                 7.9             12.18           47.98   \n",
       "2410                 7.7             14.64           49.42   \n",
       "2411                11.7             14.47           49.65   \n",
       "2412                 9.4             13.94           49.90   \n",
       "\n",
       "      population_density  percent_in_nursing_homes  crime_index_PC state  \\\n",
       "0                   60.4                      2.36             457    AL   \n",
       "1                   66.5                      5.40             282    AL   \n",
       "2                   28.8                      7.02              47    AL   \n",
       "3                   62.4                      2.36             185    AL   \n",
       "4                   17.6                      2.91             141    AL   \n",
       "...                  ...                       ...             ...   ...   \n",
       "2408                 9.5                      4.67             275    WY   \n",
       "2409                 1.0                      8.60             432    WY   \n",
       "2410                 3.9                      3.00             625    WY   \n",
       "2411                 3.8                      8.47             313    WY   \n",
       "2412                 2.8                      6.21             167    WY   \n",
       "\n",
       "      clinton_win  \n",
       "0           False  \n",
       "1           False  \n",
       "2            True  \n",
       "3           False  \n",
       "4            True  \n",
       "...           ...  \n",
       "2408        False  \n",
       "2409        False  \n",
       "2410         True  \n",
       "2411        False  \n",
       "2412        False  \n",
       "\n",
       "[2413 rows x 12 columns]"
      ]
     },
     "execution_count": 3,
     "metadata": {},
     "output_type": "execute_result"
    }
   ],
   "source": [
    "df"
   ]
  },
  {
   "cell_type": "code",
   "execution_count": 4,
   "id": "95afc593",
   "metadata": {},
   "outputs": [
    {
     "data": {
      "text/html": [
       "<div>\n",
       "<style scoped>\n",
       "    .dataframe tbody tr th:only-of-type {\n",
       "        vertical-align: middle;\n",
       "    }\n",
       "\n",
       "    .dataframe tbody tr th {\n",
       "        vertical-align: top;\n",
       "    }\n",
       "\n",
       "    .dataframe thead th {\n",
       "        text-align: right;\n",
       "    }\n",
       "</style>\n",
       "<table border=\"1\" class=\"dataframe\">\n",
       "  <thead>\n",
       "    <tr style=\"text-align: right;\">\n",
       "      <th></th>\n",
       "      <th>median_age</th>\n",
       "      <th>mean_savings</th>\n",
       "      <th>per_capita_income</th>\n",
       "      <th>percent_in_poverty</th>\n",
       "      <th>percent_veterans</th>\n",
       "      <th>percent_female</th>\n",
       "      <th>population_density</th>\n",
       "      <th>percent_in_nursing_homes</th>\n",
       "      <th>crime_index_PC</th>\n",
       "    </tr>\n",
       "  </thead>\n",
       "  <tbody>\n",
       "    <tr>\n",
       "      <th>count</th>\n",
       "      <td>2413.000000</td>\n",
       "      <td>2413.000000</td>\n",
       "      <td>2413.000000</td>\n",
       "      <td>2413.000000</td>\n",
       "      <td>2413.000000</td>\n",
       "      <td>2413.000000</td>\n",
       "      <td>2413.000000</td>\n",
       "      <td>2413.000000</td>\n",
       "      <td>2413.000000</td>\n",
       "    </tr>\n",
       "    <tr>\n",
       "      <th>mean</th>\n",
       "      <td>34.400207</td>\n",
       "      <td>90326.450062</td>\n",
       "      <td>16374.190220</td>\n",
       "      <td>16.039039</td>\n",
       "      <td>11.492105</td>\n",
       "      <td>50.979043</td>\n",
       "      <td>178.689639</td>\n",
       "      <td>9.688367</td>\n",
       "      <td>303.092831</td>\n",
       "    </tr>\n",
       "    <tr>\n",
       "      <th>std</th>\n",
       "      <td>3.569727</td>\n",
       "      <td>40664.482147</td>\n",
       "      <td>3381.965731</td>\n",
       "      <td>6.699233</td>\n",
       "      <td>2.272614</td>\n",
       "      <td>1.472002</td>\n",
       "      <td>916.460524</td>\n",
       "      <td>6.160463</td>\n",
       "      <td>212.994761</td>\n",
       "    </tr>\n",
       "    <tr>\n",
       "      <th>min</th>\n",
       "      <td>20.000000</td>\n",
       "      <td>10618.000000</td>\n",
       "      <td>6118.000000</td>\n",
       "      <td>1.900000</td>\n",
       "      <td>2.780000</td>\n",
       "      <td>37.530000</td>\n",
       "      <td>0.400000</td>\n",
       "      <td>0.080000</td>\n",
       "      <td>0.000000</td>\n",
       "    </tr>\n",
       "    <tr>\n",
       "      <th>25%</th>\n",
       "      <td>32.400000</td>\n",
       "      <td>63439.000000</td>\n",
       "      <td>14183.000000</td>\n",
       "      <td>11.400000</td>\n",
       "      <td>9.920000</td>\n",
       "      <td>50.370000</td>\n",
       "      <td>18.200000</td>\n",
       "      <td>5.430000</td>\n",
       "      <td>149.000000</td>\n",
       "    </tr>\n",
       "    <tr>\n",
       "      <th>50%</th>\n",
       "      <td>34.200000</td>\n",
       "      <td>83682.000000</td>\n",
       "      <td>15944.000000</td>\n",
       "      <td>14.900000</td>\n",
       "      <td>11.550000</td>\n",
       "      <td>51.120000</td>\n",
       "      <td>41.600000</td>\n",
       "      <td>8.170000</td>\n",
       "      <td>263.000000</td>\n",
       "    </tr>\n",
       "    <tr>\n",
       "      <th>75%</th>\n",
       "      <td>36.400000</td>\n",
       "      <td>108226.000000</td>\n",
       "      <td>17860.000000</td>\n",
       "      <td>19.200000</td>\n",
       "      <td>13.050000</td>\n",
       "      <td>51.840000</td>\n",
       "      <td>100.500000</td>\n",
       "      <td>12.190000</td>\n",
       "      <td>411.000000</td>\n",
       "    </tr>\n",
       "    <tr>\n",
       "      <th>max</th>\n",
       "      <td>55.400000</td>\n",
       "      <td>631534.000000</td>\n",
       "      <td>37387.000000</td>\n",
       "      <td>52.000000</td>\n",
       "      <td>25.040000</td>\n",
       "      <td>55.390000</td>\n",
       "      <td>32360.300000</td>\n",
       "      <td>59.220000</td>\n",
       "      <td>2792.000000</td>\n",
       "    </tr>\n",
       "  </tbody>\n",
       "</table>\n",
       "</div>"
      ],
      "text/plain": [
       "        median_age   mean_savings  per_capita_income  percent_in_poverty  \\\n",
       "count  2413.000000    2413.000000        2413.000000         2413.000000   \n",
       "mean     34.400207   90326.450062       16374.190220           16.039039   \n",
       "std       3.569727   40664.482147        3381.965731            6.699233   \n",
       "min      20.000000   10618.000000        6118.000000            1.900000   \n",
       "25%      32.400000   63439.000000       14183.000000           11.400000   \n",
       "50%      34.200000   83682.000000       15944.000000           14.900000   \n",
       "75%      36.400000  108226.000000       17860.000000           19.200000   \n",
       "max      55.400000  631534.000000       37387.000000           52.000000   \n",
       "\n",
       "       percent_veterans  percent_female  population_density  \\\n",
       "count       2413.000000     2413.000000         2413.000000   \n",
       "mean          11.492105       50.979043          178.689639   \n",
       "std            2.272614        1.472002          916.460524   \n",
       "min            2.780000       37.530000            0.400000   \n",
       "25%            9.920000       50.370000           18.200000   \n",
       "50%           11.550000       51.120000           41.600000   \n",
       "75%           13.050000       51.840000          100.500000   \n",
       "max           25.040000       55.390000        32360.300000   \n",
       "\n",
       "       percent_in_nursing_homes  crime_index_PC  \n",
       "count               2413.000000     2413.000000  \n",
       "mean                   9.688367      303.092831  \n",
       "std                    6.160463      212.994761  \n",
       "min                    0.080000        0.000000  \n",
       "25%                    5.430000      149.000000  \n",
       "50%                    8.170000      263.000000  \n",
       "75%                   12.190000      411.000000  \n",
       "max                   59.220000     2792.000000  "
      ]
     },
     "execution_count": 4,
     "metadata": {},
     "output_type": "execute_result"
    }
   ],
   "source": [
    "df.describe()"
   ]
  },
  {
   "cell_type": "code",
   "execution_count": 5,
   "id": "d614c2e5-e585-4b00-885e-6d52fe94b746",
   "metadata": {},
   "outputs": [],
   "source": [
    "df_savings_vote = df[['mean_savings', 'clinton_win']]"
   ]
  },
  {
   "cell_type": "code",
   "execution_count": 6,
   "id": "3e6688ae-064b-4646-a514-74ce3b4cd960",
   "metadata": {},
   "outputs": [
    {
     "data": {
      "text/plain": [
       "0        57623\n",
       "1        84935\n",
       "2        83656\n",
       "3        61249\n",
       "4        75725\n",
       "         ...  \n",
       "2408     87232\n",
       "2409     83020\n",
       "2410    104346\n",
       "2411    114176\n",
       "2412    132959\n",
       "Name: mean_savings, Length: 2413, dtype: int64"
      ]
     },
     "execution_count": 6,
     "metadata": {},
     "output_type": "execute_result"
    }
   ],
   "source": [
    "df.mean_savings"
   ]
  },
  {
   "cell_type": "code",
   "execution_count": 7,
   "id": "f76dbedd-fdfb-45c6-b99c-979da19b36ee",
   "metadata": {},
   "outputs": [
    {
     "data": {
      "text/html": [
       "<div>\n",
       "<style scoped>\n",
       "    .dataframe tbody tr th:only-of-type {\n",
       "        vertical-align: middle;\n",
       "    }\n",
       "\n",
       "    .dataframe tbody tr th {\n",
       "        vertical-align: top;\n",
       "    }\n",
       "\n",
       "    .dataframe thead th {\n",
       "        text-align: right;\n",
       "    }\n",
       "</style>\n",
       "<table border=\"1\" class=\"dataframe\">\n",
       "  <thead>\n",
       "    <tr style=\"text-align: right;\">\n",
       "      <th></th>\n",
       "      <th>median_age</th>\n",
       "      <th>mean_savings</th>\n",
       "      <th>per_capita_income</th>\n",
       "      <th>percent_in_poverty</th>\n",
       "      <th>percent_veterans</th>\n",
       "      <th>percent_female</th>\n",
       "      <th>population_density</th>\n",
       "      <th>percent_in_nursing_homes</th>\n",
       "      <th>crime_index_PC</th>\n",
       "      <th>clinton_win</th>\n",
       "    </tr>\n",
       "  </thead>\n",
       "  <tbody>\n",
       "    <tr>\n",
       "      <th>median_age</th>\n",
       "      <td>1.000000</td>\n",
       "      <td>0.359540</td>\n",
       "      <td>0.101816</td>\n",
       "      <td>-0.168699</td>\n",
       "      <td>0.542446</td>\n",
       "      <td>0.165718</td>\n",
       "      <td>-0.057944</td>\n",
       "      <td>0.499632</td>\n",
       "      <td>-0.262856</td>\n",
       "      <td>0.021728</td>\n",
       "    </tr>\n",
       "    <tr>\n",
       "      <th>mean_savings</th>\n",
       "      <td>0.359540</td>\n",
       "      <td>1.000000</td>\n",
       "      <td>0.396367</td>\n",
       "      <td>-0.235122</td>\n",
       "      <td>0.335320</td>\n",
       "      <td>0.172031</td>\n",
       "      <td>0.149548</td>\n",
       "      <td>0.417459</td>\n",
       "      <td>-0.104495</td>\n",
       "      <td>-0.068880</td>\n",
       "    </tr>\n",
       "    <tr>\n",
       "      <th>per_capita_income</th>\n",
       "      <td>0.101816</td>\n",
       "      <td>0.396367</td>\n",
       "      <td>1.000000</td>\n",
       "      <td>-0.621274</td>\n",
       "      <td>0.245551</td>\n",
       "      <td>0.054540</td>\n",
       "      <td>0.271253</td>\n",
       "      <td>-0.039274</td>\n",
       "      <td>0.256770</td>\n",
       "      <td>-0.144953</td>\n",
       "    </tr>\n",
       "    <tr>\n",
       "      <th>percent_in_poverty</th>\n",
       "      <td>-0.168699</td>\n",
       "      <td>-0.235122</td>\n",
       "      <td>-0.621274</td>\n",
       "      <td>1.000000</td>\n",
       "      <td>-0.345922</td>\n",
       "      <td>0.190793</td>\n",
       "      <td>-0.012427</td>\n",
       "      <td>-0.054604</td>\n",
       "      <td>0.065128</td>\n",
       "      <td>0.270434</td>\n",
       "    </tr>\n",
       "    <tr>\n",
       "      <th>percent_veterans</th>\n",
       "      <td>0.542446</td>\n",
       "      <td>0.335320</td>\n",
       "      <td>0.245551</td>\n",
       "      <td>-0.345922</td>\n",
       "      <td>1.000000</td>\n",
       "      <td>0.018526</td>\n",
       "      <td>-0.007615</td>\n",
       "      <td>0.341740</td>\n",
       "      <td>-0.082200</td>\n",
       "      <td>0.027842</td>\n",
       "    </tr>\n",
       "    <tr>\n",
       "      <th>percent_female</th>\n",
       "      <td>0.165718</td>\n",
       "      <td>0.172031</td>\n",
       "      <td>0.054540</td>\n",
       "      <td>0.190793</td>\n",
       "      <td>0.018526</td>\n",
       "      <td>1.000000</td>\n",
       "      <td>0.110642</td>\n",
       "      <td>0.147836</td>\n",
       "      <td>0.065146</td>\n",
       "      <td>0.142058</td>\n",
       "    </tr>\n",
       "    <tr>\n",
       "      <th>population_density</th>\n",
       "      <td>-0.057944</td>\n",
       "      <td>0.149548</td>\n",
       "      <td>0.271253</td>\n",
       "      <td>-0.012427</td>\n",
       "      <td>-0.007615</td>\n",
       "      <td>0.110642</td>\n",
       "      <td>1.000000</td>\n",
       "      <td>-0.113666</td>\n",
       "      <td>0.377132</td>\n",
       "      <td>0.066899</td>\n",
       "    </tr>\n",
       "    <tr>\n",
       "      <th>percent_in_nursing_homes</th>\n",
       "      <td>0.499632</td>\n",
       "      <td>0.417459</td>\n",
       "      <td>-0.039274</td>\n",
       "      <td>-0.054604</td>\n",
       "      <td>0.341740</td>\n",
       "      <td>0.147836</td>\n",
       "      <td>-0.113666</td>\n",
       "      <td>1.000000</td>\n",
       "      <td>-0.350141</td>\n",
       "      <td>0.013308</td>\n",
       "    </tr>\n",
       "    <tr>\n",
       "      <th>crime_index_PC</th>\n",
       "      <td>-0.262856</td>\n",
       "      <td>-0.104495</td>\n",
       "      <td>0.256770</td>\n",
       "      <td>0.065128</td>\n",
       "      <td>-0.082200</td>\n",
       "      <td>0.065146</td>\n",
       "      <td>0.377132</td>\n",
       "      <td>-0.350141</td>\n",
       "      <td>1.000000</td>\n",
       "      <td>0.045764</td>\n",
       "    </tr>\n",
       "    <tr>\n",
       "      <th>clinton_win</th>\n",
       "      <td>0.021728</td>\n",
       "      <td>-0.068880</td>\n",
       "      <td>-0.144953</td>\n",
       "      <td>0.270434</td>\n",
       "      <td>0.027842</td>\n",
       "      <td>0.142058</td>\n",
       "      <td>0.066899</td>\n",
       "      <td>0.013308</td>\n",
       "      <td>0.045764</td>\n",
       "      <td>1.000000</td>\n",
       "    </tr>\n",
       "  </tbody>\n",
       "</table>\n",
       "</div>"
      ],
      "text/plain": [
       "                          median_age  mean_savings  per_capita_income  \\\n",
       "median_age                  1.000000      0.359540           0.101816   \n",
       "mean_savings                0.359540      1.000000           0.396367   \n",
       "per_capita_income           0.101816      0.396367           1.000000   \n",
       "percent_in_poverty         -0.168699     -0.235122          -0.621274   \n",
       "percent_veterans            0.542446      0.335320           0.245551   \n",
       "percent_female              0.165718      0.172031           0.054540   \n",
       "population_density         -0.057944      0.149548           0.271253   \n",
       "percent_in_nursing_homes    0.499632      0.417459          -0.039274   \n",
       "crime_index_PC             -0.262856     -0.104495           0.256770   \n",
       "clinton_win                 0.021728     -0.068880          -0.144953   \n",
       "\n",
       "                          percent_in_poverty  percent_veterans  \\\n",
       "median_age                         -0.168699          0.542446   \n",
       "mean_savings                       -0.235122          0.335320   \n",
       "per_capita_income                  -0.621274          0.245551   \n",
       "percent_in_poverty                  1.000000         -0.345922   \n",
       "percent_veterans                   -0.345922          1.000000   \n",
       "percent_female                      0.190793          0.018526   \n",
       "population_density                 -0.012427         -0.007615   \n",
       "percent_in_nursing_homes           -0.054604          0.341740   \n",
       "crime_index_PC                      0.065128         -0.082200   \n",
       "clinton_win                         0.270434          0.027842   \n",
       "\n",
       "                          percent_female  population_density  \\\n",
       "median_age                      0.165718           -0.057944   \n",
       "mean_savings                    0.172031            0.149548   \n",
       "per_capita_income               0.054540            0.271253   \n",
       "percent_in_poverty              0.190793           -0.012427   \n",
       "percent_veterans                0.018526           -0.007615   \n",
       "percent_female                  1.000000            0.110642   \n",
       "population_density              0.110642            1.000000   \n",
       "percent_in_nursing_homes        0.147836           -0.113666   \n",
       "crime_index_PC                  0.065146            0.377132   \n",
       "clinton_win                     0.142058            0.066899   \n",
       "\n",
       "                          percent_in_nursing_homes  crime_index_PC  \\\n",
       "median_age                                0.499632       -0.262856   \n",
       "mean_savings                              0.417459       -0.104495   \n",
       "per_capita_income                        -0.039274        0.256770   \n",
       "percent_in_poverty                       -0.054604        0.065128   \n",
       "percent_veterans                          0.341740       -0.082200   \n",
       "percent_female                            0.147836        0.065146   \n",
       "population_density                       -0.113666        0.377132   \n",
       "percent_in_nursing_homes                  1.000000       -0.350141   \n",
       "crime_index_PC                           -0.350141        1.000000   \n",
       "clinton_win                               0.013308        0.045764   \n",
       "\n",
       "                          clinton_win  \n",
       "median_age                   0.021728  \n",
       "mean_savings                -0.068880  \n",
       "per_capita_income           -0.144953  \n",
       "percent_in_poverty           0.270434  \n",
       "percent_veterans             0.027842  \n",
       "percent_female               0.142058  \n",
       "population_density           0.066899  \n",
       "percent_in_nursing_homes     0.013308  \n",
       "crime_index_PC               0.045764  \n",
       "clinton_win                  1.000000  "
      ]
     },
     "execution_count": 7,
     "metadata": {},
     "output_type": "execute_result"
    }
   ],
   "source": [
    "df.corr()"
   ]
  },
  {
   "cell_type": "code",
   "execution_count": null,
   "id": "23cd5086-6828-4063-9354-d93d42bb43be",
   "metadata": {},
   "outputs": [],
   "source": []
  },
  {
   "cell_type": "markdown",
   "id": "03708f4d-627c-40bf-94a7-5fe56c5df130",
   "metadata": {},
   "source": [
    "# Trying base AI"
   ]
  },
  {
   "cell_type": "markdown",
   "id": "87c30a70-13ee-48d5-b1cc-8a18d2b00cd6",
   "metadata": {},
   "source": [
    "## Getting the Data"
   ]
  },
  {
   "cell_type": "code",
   "execution_count": 8,
   "id": "0cccbf1e-ce34-4b30-bf51-ad9a9be9bf3c",
   "metadata": {},
   "outputs": [],
   "source": [
    "from sklearn.model_selection import train_test_split"
   ]
  },
  {
   "cell_type": "code",
   "execution_count": 9,
   "id": "8620a420-4ea7-4d05-8c7e-5f26d3c8edf5",
   "metadata": {},
   "outputs": [],
   "source": [
    "X = df.drop([\"clinton_win\", \"county_name\", \"state\"], axis=1)"
   ]
  },
  {
   "cell_type": "code",
   "execution_count": 10,
   "id": "5397167c-eaee-455c-a473-76b1e769e224",
   "metadata": {},
   "outputs": [],
   "source": [
    "y = df[\"clinton_win\"].values"
   ]
  },
  {
   "cell_type": "markdown",
   "id": "46568924-ba3e-4874-850a-10af34c175fc",
   "metadata": {},
   "source": [
    "## Transforming the data"
   ]
  },
  {
   "cell_type": "code",
   "execution_count": 11,
   "id": "aa98abf9-9f20-483d-82f1-8cdfccee0519",
   "metadata": {},
   "outputs": [],
   "source": [
    "from sklearn import preprocessing\n",
    "\n",
    "min_max_scaler = preprocessing.MinMaxScaler()\n",
    "\n",
    "x_scaled = min_max_scaler.fit_transform(X)\n",
    "X = pd.DataFrame(x_scaled)"
   ]
  },
  {
   "cell_type": "code",
   "execution_count": 12,
   "id": "db3e12d5-4f86-4aa6-90f5-3f6841317d1b",
   "metadata": {},
   "outputs": [
    {
     "data": {
      "text/html": [
       "<div>\n",
       "<style scoped>\n",
       "    .dataframe tbody tr th:only-of-type {\n",
       "        vertical-align: middle;\n",
       "    }\n",
       "\n",
       "    .dataframe tbody tr th {\n",
       "        vertical-align: top;\n",
       "    }\n",
       "\n",
       "    .dataframe thead th {\n",
       "        text-align: right;\n",
       "    }\n",
       "</style>\n",
       "<table border=\"1\" class=\"dataframe\">\n",
       "  <thead>\n",
       "    <tr style=\"text-align: right;\">\n",
       "      <th></th>\n",
       "      <th>0</th>\n",
       "      <th>1</th>\n",
       "      <th>2</th>\n",
       "      <th>3</th>\n",
       "      <th>4</th>\n",
       "      <th>5</th>\n",
       "      <th>6</th>\n",
       "      <th>7</th>\n",
       "      <th>8</th>\n",
       "    </tr>\n",
       "  </thead>\n",
       "  <tbody>\n",
       "    <tr>\n",
       "      <th>0</th>\n",
       "      <td>0.330508</td>\n",
       "      <td>0.075703</td>\n",
       "      <td>0.308612</td>\n",
       "      <td>0.265469</td>\n",
       "      <td>0.357592</td>\n",
       "      <td>0.777156</td>\n",
       "      <td>0.001854</td>\n",
       "      <td>0.038553</td>\n",
       "      <td>0.163682</td>\n",
       "    </tr>\n",
       "    <tr>\n",
       "      <th>1</th>\n",
       "      <td>0.437853</td>\n",
       "      <td>0.119689</td>\n",
       "      <td>0.346541</td>\n",
       "      <td>0.233533</td>\n",
       "      <td>0.312219</td>\n",
       "      <td>0.773236</td>\n",
       "      <td>0.002043</td>\n",
       "      <td>0.089956</td>\n",
       "      <td>0.101003</td>\n",
       "    </tr>\n",
       "    <tr>\n",
       "      <th>2</th>\n",
       "      <td>0.361582</td>\n",
       "      <td>0.117629</td>\n",
       "      <td>0.301065</td>\n",
       "      <td>0.461078</td>\n",
       "      <td>0.271339</td>\n",
       "      <td>0.867861</td>\n",
       "      <td>0.000878</td>\n",
       "      <td>0.117349</td>\n",
       "      <td>0.016834</td>\n",
       "    </tr>\n",
       "    <tr>\n",
       "      <th>3</th>\n",
       "      <td>0.409605</td>\n",
       "      <td>0.081542</td>\n",
       "      <td>0.278295</td>\n",
       "      <td>0.261477</td>\n",
       "      <td>0.309524</td>\n",
       "      <td>0.762598</td>\n",
       "      <td>0.001916</td>\n",
       "      <td>0.038553</td>\n",
       "      <td>0.066261</td>\n",
       "    </tr>\n",
       "    <tr>\n",
       "      <th>4</th>\n",
       "      <td>0.330508</td>\n",
       "      <td>0.104856</td>\n",
       "      <td>0.159967</td>\n",
       "      <td>0.620758</td>\n",
       "      <td>0.193172</td>\n",
       "      <td>0.740761</td>\n",
       "      <td>0.000532</td>\n",
       "      <td>0.047853</td>\n",
       "      <td>0.050501</td>\n",
       "    </tr>\n",
       "    <tr>\n",
       "      <th>...</th>\n",
       "      <td>...</td>\n",
       "      <td>...</td>\n",
       "      <td>...</td>\n",
       "      <td>...</td>\n",
       "      <td>...</td>\n",
       "      <td>...</td>\n",
       "      <td>...</td>\n",
       "      <td>...</td>\n",
       "      <td>...</td>\n",
       "    </tr>\n",
       "    <tr>\n",
       "      <th>2408</th>\n",
       "      <td>0.460452</td>\n",
       "      <td>0.123389</td>\n",
       "      <td>0.515910</td>\n",
       "      <td>0.193613</td>\n",
       "      <td>0.620395</td>\n",
       "      <td>0.739082</td>\n",
       "      <td>0.000281</td>\n",
       "      <td>0.077612</td>\n",
       "      <td>0.098496</td>\n",
       "    </tr>\n",
       "    <tr>\n",
       "      <th>2409</th>\n",
       "      <td>0.435028</td>\n",
       "      <td>0.116605</td>\n",
       "      <td>0.403914</td>\n",
       "      <td>0.119760</td>\n",
       "      <td>0.422282</td>\n",
       "      <td>0.585106</td>\n",
       "      <td>0.000019</td>\n",
       "      <td>0.144065</td>\n",
       "      <td>0.154728</td>\n",
       "    </tr>\n",
       "    <tr>\n",
       "      <th>2410</th>\n",
       "      <td>0.293785</td>\n",
       "      <td>0.150951</td>\n",
       "      <td>0.414724</td>\n",
       "      <td>0.115768</td>\n",
       "      <td>0.532794</td>\n",
       "      <td>0.665733</td>\n",
       "      <td>0.000108</td>\n",
       "      <td>0.049374</td>\n",
       "      <td>0.223854</td>\n",
       "    </tr>\n",
       "    <tr>\n",
       "      <th>2411</th>\n",
       "      <td>0.412429</td>\n",
       "      <td>0.166783</td>\n",
       "      <td>0.367457</td>\n",
       "      <td>0.195609</td>\n",
       "      <td>0.525157</td>\n",
       "      <td>0.678611</td>\n",
       "      <td>0.000105</td>\n",
       "      <td>0.141867</td>\n",
       "      <td>0.112106</td>\n",
       "    </tr>\n",
       "    <tr>\n",
       "      <th>2412</th>\n",
       "      <td>0.406780</td>\n",
       "      <td>0.197033</td>\n",
       "      <td>0.420448</td>\n",
       "      <td>0.149701</td>\n",
       "      <td>0.501348</td>\n",
       "      <td>0.692609</td>\n",
       "      <td>0.000074</td>\n",
       "      <td>0.103652</td>\n",
       "      <td>0.059814</td>\n",
       "    </tr>\n",
       "  </tbody>\n",
       "</table>\n",
       "<p>2413 rows × 9 columns</p>\n",
       "</div>"
      ],
      "text/plain": [
       "             0         1         2         3         4         5         6  \\\n",
       "0     0.330508  0.075703  0.308612  0.265469  0.357592  0.777156  0.001854   \n",
       "1     0.437853  0.119689  0.346541  0.233533  0.312219  0.773236  0.002043   \n",
       "2     0.361582  0.117629  0.301065  0.461078  0.271339  0.867861  0.000878   \n",
       "3     0.409605  0.081542  0.278295  0.261477  0.309524  0.762598  0.001916   \n",
       "4     0.330508  0.104856  0.159967  0.620758  0.193172  0.740761  0.000532   \n",
       "...        ...       ...       ...       ...       ...       ...       ...   \n",
       "2408  0.460452  0.123389  0.515910  0.193613  0.620395  0.739082  0.000281   \n",
       "2409  0.435028  0.116605  0.403914  0.119760  0.422282  0.585106  0.000019   \n",
       "2410  0.293785  0.150951  0.414724  0.115768  0.532794  0.665733  0.000108   \n",
       "2411  0.412429  0.166783  0.367457  0.195609  0.525157  0.678611  0.000105   \n",
       "2412  0.406780  0.197033  0.420448  0.149701  0.501348  0.692609  0.000074   \n",
       "\n",
       "             7         8  \n",
       "0     0.038553  0.163682  \n",
       "1     0.089956  0.101003  \n",
       "2     0.117349  0.016834  \n",
       "3     0.038553  0.066261  \n",
       "4     0.047853  0.050501  \n",
       "...        ...       ...  \n",
       "2408  0.077612  0.098496  \n",
       "2409  0.144065  0.154728  \n",
       "2410  0.049374  0.223854  \n",
       "2411  0.141867  0.112106  \n",
       "2412  0.103652  0.059814  \n",
       "\n",
       "[2413 rows x 9 columns]"
      ]
     },
     "execution_count": 12,
     "metadata": {},
     "output_type": "execute_result"
    }
   ],
   "source": [
    "X"
   ]
  },
  {
   "cell_type": "markdown",
   "id": "51e17175-b077-4441-a1a7-c7d00c8bcf29",
   "metadata": {},
   "source": [
    "## Splitting The data"
   ]
  },
  {
   "cell_type": "code",
   "execution_count": 27,
   "id": "a50de58e-670f-47e6-aefd-24e27f10e32b",
   "metadata": {},
   "outputs": [],
   "source": [
    "X_train, X_test, y_train, y_test = train_test_split(X, y, test_size=0.33, random_state=42, stratify=y)"
   ]
  },
  {
   "cell_type": "code",
   "execution_count": null,
   "id": "c860eee7-8bb5-4b93-8ba7-2409a2e493f1",
   "metadata": {},
   "outputs": [],
   "source": []
  },
  {
   "cell_type": "code",
   "execution_count": 28,
   "id": "fe74f569-413e-4f83-a3f8-5546ea52536a",
   "metadata": {},
   "outputs": [],
   "source": [
    "from sklearn import svm"
   ]
  },
  {
   "cell_type": "code",
   "execution_count": 29,
   "id": "667847ea-3c2b-4919-bae7-4e9c2334870c",
   "metadata": {},
   "outputs": [],
   "source": [
    "clf = svm.SVC()"
   ]
  },
  {
   "cell_type": "code",
   "execution_count": 30,
   "id": "9a5ee366-5e18-4eba-b4b2-b31aa53e290f",
   "metadata": {},
   "outputs": [
    {
     "data": {
      "text/plain": [
       "SVC()"
      ]
     },
     "execution_count": 30,
     "metadata": {},
     "output_type": "execute_result"
    }
   ],
   "source": [
    "clf.fit(X_train, y_train)"
   ]
  },
  {
   "cell_type": "code",
   "execution_count": 31,
   "id": "5f15e1da-3f5d-4d66-95e0-59b05fa08cb3",
   "metadata": {},
   "outputs": [
    {
     "data": {
      "text/plain": [
       "0.6499372647427855"
      ]
     },
     "execution_count": 31,
     "metadata": {},
     "output_type": "execute_result"
    }
   ],
   "source": [
    "clf.score(X_test, y_test)"
   ]
  },
  {
   "cell_type": "code",
   "execution_count": 32,
   "id": "c995f59f-3580-4917-a11f-fa524d06c045",
   "metadata": {},
   "outputs": [],
   "source": [
    "from sklearn.linear_model import SGDClassifier"
   ]
  },
  {
   "cell_type": "code",
   "execution_count": 33,
   "id": "ad46f9df-7f72-42d2-b80a-f7b285889631",
   "metadata": {},
   "outputs": [],
   "source": [
    "clf = SGDClassifier(loss=\"hinge\", penalty=\"elasticnet\", max_iter=3000)"
   ]
  },
  {
   "cell_type": "code",
   "execution_count": 34,
   "id": "a5792560-3101-48d1-a3bc-652c57eb6e97",
   "metadata": {},
   "outputs": [
    {
     "data": {
      "text/plain": [
       "SGDClassifier(max_iter=3000, penalty='elasticnet')"
      ]
     },
     "execution_count": 34,
     "metadata": {},
     "output_type": "execute_result"
    }
   ],
   "source": [
    "clf.fit(X_train, y_train)"
   ]
  },
  {
   "cell_type": "code",
   "execution_count": 35,
   "id": "4111cbb2-222e-4c37-a2a2-f74e9b0c489b",
   "metadata": {},
   "outputs": [
    {
     "data": {
      "text/plain": [
       "0.6235884567126725"
      ]
     },
     "execution_count": 35,
     "metadata": {},
     "output_type": "execute_result"
    }
   ],
   "source": [
    "clf.score(X_test, y_test)"
   ]
  },
  {
   "cell_type": "code",
   "execution_count": 36,
   "id": "c327af22-5754-43bc-93b9-003aa6cc644e",
   "metadata": {},
   "outputs": [],
   "source": [
    "from sklearn.neighbors import KNeighborsClassifier\n",
    "\n",
    "train_accuracies = {}\n",
    "test_accuracies = {}\n",
    "neighbors = np.arange(1, 26)\n",
    "for neighbor in neighbors:\n",
    "    knn = KNeighborsClassifier(n_neighbors=neighbor)\n",
    "    knn.fit(X_train, y_train)\n",
    "    train_accuracies[neighbor] = knn.score(X_train, y_train)\n",
    "    test_accuracies[neighbor] = knn.score(X_test, y_test)"
   ]
  },
  {
   "cell_type": "code",
   "execution_count": 37,
   "id": "81833c27-df64-4352-9527-cb6930ad3a48",
   "metadata": {},
   "outputs": [
    {
     "data": {
      "image/png": "[encoded data removed]",
      "text/plain": [
       "<Figure size 576x432 with 1 Axes>"
      ]
     },
     "metadata": {
      "image/png": {
       "height": 386,
       "width": 497
      },
      "needs_background": "light"
     },
     "output_type": "display_data"
    }
   ],
   "source": [
    "plt.figure(figsize=(8, 6))\n",
    "plt.title(\"KNN: Varying Number of Neighbors\")\n",
    "plt.plot(neighbors, train_accuracies.values(), label=\"Training Accuracy\")\n",
    "plt.plot(neighbors, test_accuracies.values(), label=\"Testing Accuracy\")\n",
    "plt.legend()\n",
    "plt.xlabel(\"Number of Neighbors\")\n",
    "plt.ylabel(\"Accuracy\")\n",
    "plt.show()"
   ]
  },
  {
   "cell_type": "code",
   "execution_count": 41,
   "id": "5785cd1b-f642-431d-a8b8-dfa5940ced40",
   "metadata": {},
   "outputs": [
    {
     "name": "stdout",
     "output_type": "stream",
     "text": [
      "[[290 113]\n",
      " [152 242]]\n"
     ]
    }
   ],
   "source": [
    "from sklearn.metrics import confusion_matrix\n",
    "knn = KNeighborsClassifier(n_neighbors=23)\n",
    "\n",
    "knn.fit(X_train, y_train)\n",
    "\n",
    "y_pred = knn.predict(X_test)\n",
    "print(confusion_matrix(y_test, y_pred))"
   ]
  },
  {
   "cell_type": "code",
   "execution_count": 43,
   "id": "eeb45c22-dea5-45b5-9aad-dbaeaec9d0dc",
   "metadata": {},
   "outputs": [
    {
     "name": "stdout",
     "output_type": "stream",
     "text": [
      "              precision    recall  f1-score   support\n",
      "\n",
      "       False       0.66      0.72      0.69       403\n",
      "        True       0.68      0.61      0.65       394\n",
      "\n",
      "    accuracy                           0.67       797\n",
      "   macro avg       0.67      0.67      0.67       797\n",
      "weighted avg       0.67      0.67      0.67       797\n",
      "\n"
     ]
    }
   ],
   "source": [
    "from sklearn.metrics import classification_report\n",
    "print(classification_report(y_test, y_pred))"
   ]
  },
  {
   "cell_type": "code",
   "execution_count": 47,
   "id": "6da867b6-7a56-4004-b2e7-2c031129402c",
   "metadata": {},
   "outputs": [
    {
     "name": "stdout",
     "output_type": "stream",
     "text": [
      "0.5322322288984715\n"
     ]
    }
   ],
   "source": [
    "from sklearn.linear_model import LogisticRegression\n",
    "logreg = LogisticRegression()\n",
    "\n",
    "logreg.fit(X_train, y_train)\n",
    "y_pred_probs = logreg.predict_proba(X_test)[:, 1]\n",
    "print(y_pred_probs[0])\n",
    "\n",
    "y_pred = logreg.predict(X_test)"
   ]
  },
  {
   "cell_type": "code",
   "execution_count": 48,
   "id": "f5140260-0ff7-48e4-844f-16c1d6f2dc30",
   "metadata": {},
   "outputs": [
    {
     "data": {
      "image/png": "[encoded data removed]",
      "text/plain": [
       "<Figure size 432x288 with 1 Axes>"
      ]
     },
     "metadata": {
      "image/png": {
       "height": 277,
       "width": 385
      },
      "needs_background": "light"
     },
     "output_type": "display_data"
    }
   ],
   "source": [
    "from sklearn.metrics import roc_curve\n",
    "fpr, tpr, thresholds = roc_curve(y_test, y_pred_probs)\n",
    "plt.plot([0, 1], [0, 1], 'k--')\n",
    "plt.plot(fpr, tpr)\n",
    "plt.xlabel('False Positive Rate')\n",
    "plt.ylabel('True Positive Rate')\n",
    "plt.title('Logistic Regression ROC Curve')\n",
    "plt.show()"
   ]
  },
  {
   "cell_type": "code",
   "execution_count": 64,
   "id": "ae107266-bd6e-47e5-b07c-d76981834232",
   "metadata": {},
   "outputs": [
    {
     "data": {
      "text/plain": [
       "0.6863309443135872"
      ]
     },
     "execution_count": 64,
     "metadata": {},
     "output_type": "execute_result"
    }
   ],
   "source": [
    "from sklearn.metrics import roc_auc_score\n",
    "\n",
    "roc_auc_score(y_test, y_pred_probs)"
   ]
  },
  {
   "cell_type": "code",
   "execution_count": null,
   "id": "e4df4dd1-94da-4f86-9d0e-af969dbcfa51",
   "metadata": {},
   "outputs": [],
   "source": []
  },
  {
   "cell_type": "code",
   "execution_count": 62,
   "id": "140aaab2-8a01-4409-894b-cc43a4e5764b",
   "metadata": {},
   "outputs": [
    {
     "name": "stdout",
     "output_type": "stream",
     "text": [
      "{'solver': 'lsqr', 'alpha': 0.0001} 0.07566561721971628\n"
     ]
    }
   ],
   "source": [
    "from sklearn.model_selection import RandomizedSearchCV, KFold\n",
    "from sklearn.linear_model import Ridge\n",
    "\n",
    "\n",
    "kf = KFold(n_splits=5, shuffle=True, random_state=42)\n",
    "param_grid = {'alpha': np.arange(0.0001, 1, 10),\n",
    "              \"solver\": ['sag', 'lsqr']}\n",
    "ridge = Ridge()\n",
    "ridge_cv = RandomizedSearchCV(ridge, param_grid, cv=kf, n_iter=2)\n",
    "ridge_cv.fit(X_train, y_train)\n",
    "print(ridge_cv.best_params_, ridge_cv.best_score_)"
   ]
  },
  {
   "cell_type": "code",
   "execution_count": 63,
   "id": "129c71be-4560-42e9-ae3d-0e7108a1e1e9",
   "metadata": {},
   "outputs": [
    {
     "data": {
      "text/plain": [
       "0.11821717988872105"
      ]
     },
     "execution_count": 63,
     "metadata": {},
     "output_type": "execute_result"
    }
   ],
   "source": [
    "ridge_cv.score(X_test, y_test)"
   ]
  },
  {
   "cell_type": "code",
   "execution_count": null,
   "id": "2004629a-6199-4853-99dc-3a48e19e4185",
   "metadata": {},
   "outputs": [],
   "source": []
  }
 ],
 "metadata": {
  "kernelspec": {
   "display_name": "Python 3 (ipykernel)",
   "language": "python",
   "name": "python3"
  },
  "language_info": {
   "codemirror_mode": {
    "name": "ipython",
    "version": 3
   },
   "file_extension": ".py",
   "mimetype": "text/x-python",
   "name": "python",
   "nbconvert_exporter": "python",
   "pygments_lexer": "ipython3",
   "version": "3.9.12"
  },
  "nbTranslate": {
   "displayLangs": [
    "*"
   ],
   "hotkey": "alt-t",
   "langInMainMenu": true,
   "sourceLang": "en",
   "targetLang": "fr",
   "useGoogleTranslate": true
  },
  "toc": {
   "base_numbering": 1,
   "nav_menu": {},
   "number_sections": true,
   "sideBar": true,
   "skip_h1_title": true,
   "title_cell": "Table of Contents",
   "title_sidebar": "Contents",
   "toc_cell": true,
   "toc_position": {},
   "toc_section_display": true,
   "toc_window_display": false
  },
  "varInspector": {
   "cols": {
    "lenName": 16,
    "lenType": 16,
    "lenVar": 40
   },
   "kernels_config": {
    "python": {
     "delete_cmd_postfix": "",
     "delete_cmd_prefix": "del ",
     "library": "var_list.py",
     "varRefreshCmd": "print(var_dic_list())"
    },
    "r": {
     "delete_cmd_postfix": ") ",
     "delete_cmd_prefix": "rm(",
     "library": "var_list.r",
     "varRefreshCmd": "cat(var_dic_list()) "
    }
   },
   "types_to_exclude": [
    "module",
    "function",
    "builtin_function_or_method",
    "instance",
    "_Feature"
   ],
   "window_display": false
  }
 },
 "nbformat": 4,
 "nbformat_minor": 5
}
